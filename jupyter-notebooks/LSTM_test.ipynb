{
 "cells": [
  {
   "cell_type": "code",
   "execution_count": 35,
   "metadata": {},
   "outputs": [],
   "source": [
    "import tensorflow as tf"
   ]
  },
  {
   "cell_type": "code",
   "execution_count": 36,
   "metadata": {},
   "outputs": [],
   "source": [
    "import pandas as pd\n",
    "import numpy as np\n",
    "import matplotlib.pyplot as plt\n",
    "import seaborn as sns\n",
    "%matplotlib inline"
   ]
  },
  {
   "cell_type": "code",
   "execution_count": null,
   "metadata": {},
   "outputs": [],
   "source": [
    "print(tf.__version__)"
   ]
  },
  {
   "cell_type": "code",
   "execution_count": 40,
   "metadata": {},
   "outputs": [
    {
     "data": {
      "text/plain": [
       "'/home/mnolte/repos/river_forecast/jupyter-notebooks'"
      ]
     },
     "execution_count": 40,
     "metadata": {},
     "output_type": "execute_result"
    }
   ],
   "source": [
    "pwd"
   ]
  },
  {
   "cell_type": "code",
   "execution_count": 41,
   "metadata": {},
   "outputs": [],
   "source": [
    "model = tf.keras.models.load_model('../models/LSTM_model_v2')"
   ]
  },
  {
   "cell_type": "code",
   "execution_count": 42,
   "metadata": {},
   "outputs": [
    {
     "name": "stdout",
     "output_type": "stream",
     "text": [
      "Model: \"sequential\"\n",
      "_________________________________________________________________\n",
      "Layer (type)                 Output Shape              Param #   \n",
      "=================================================================\n",
      "lambda (Lambda)              multiple                  0         \n",
      "_________________________________________________________________\n",
      "conv1d (Conv1D)              multiple                  256       \n",
      "_________________________________________________________________\n",
      "lstm (LSTM)                  multiple                  328704    \n",
      "_________________________________________________________________\n",
      "lstm_1 (LSTM)                multiple                  197120    \n",
      "_________________________________________________________________\n",
      "repeat_vector (RepeatVector) multiple                  0         \n",
      "_________________________________________________________________\n",
      "lstm_2 (LSTM)                multiple                  131584    \n",
      "_________________________________________________________________\n",
      "lstm_3 (LSTM)                multiple                  49408     \n",
      "_________________________________________________________________\n",
      "dense (Dense)                multiple                  2080      \n",
      "_________________________________________________________________\n",
      "dense_1 (Dense)              multiple                  528       \n",
      "_________________________________________________________________\n",
      "dense_2 (Dense)              multiple                  17        \n",
      "_________________________________________________________________\n",
      "lambda_1 (Lambda)            multiple                  0         \n",
      "_________________________________________________________________\n",
      "lambda_2 (Lambda)            multiple                  0         \n",
      "=================================================================\n",
      "Total params: 709,697\n",
      "Trainable params: 709,697\n",
      "Non-trainable params: 0\n",
      "_________________________________________________________________\n"
     ]
    }
   ],
   "source": [
    "model.summary()"
   ]
  },
  {
   "cell_type": "code",
   "execution_count": 43,
   "metadata": {},
   "outputs": [],
   "source": [
    "from river_forecast.api_data_access import RivermapDataRetriever"
   ]
  },
  {
   "cell_type": "code",
   "execution_count": 44,
   "metadata": {},
   "outputs": [],
   "source": [
    "rivermap_data = RivermapDataRetriever()"
   ]
  },
  {
   "cell_type": "code",
   "execution_count": 45,
   "metadata": {},
   "outputs": [],
   "source": [
    "flow_df = rivermap_data.get_latest_river_flow(n_days=4, station='Dranse')"
   ]
  },
  {
   "cell_type": "code",
   "execution_count": 20,
   "metadata": {},
   "outputs": [],
   "source": [
    "def multi_step_forecast(time_series, model, n_steps=12):\n",
    "    time_series = np.array(time_series).reshape(1, time_series.size, 1)\n",
    "    forecast = np.zeros(n_steps, dtype=float)\n",
    "    for i in range(n_steps):\n",
    "        time_series = model.predict(time_series)\n",
    "        forecast[i] = time_series[0, -1, 0]\n",
    "    return forecast"
   ]
  },
  {
   "cell_type": "code",
   "execution_count": null,
   "metadata": {},
   "outputs": [],
   "source": [
    "def multi_step_forecast_from_diff(time_series, model, last_value, n_steps=12):\n",
    "    forecast = multi_step_forecast(time_series, model, n_steps=n_steps)\n",
    "    f_t = last_value\n",
    "    for i in range(n_steps):\n",
    "        forecast[i] = f_t + forecast[i]\n",
    "        f_t = forecast[i]\n",
    "    return forecast"
   ]
  },
  {
   "cell_type": "code",
   "execution_count": 46,
   "metadata": {},
   "outputs": [],
   "source": [
    "def multi_step_forecast_auto_encoder(time_series, model):\n",
    "    time_series = np.array(time_series).reshape(1, time_series.size, 1)\n",
    "    forecast = model.predict(time_series)\n",
    "    return forecast"
   ]
  },
  {
   "cell_type": "code",
   "execution_count": 28,
   "metadata": {},
   "outputs": [
    {
     "data": {
      "text/plain": [
       "array([12.13745576, 12.07853703, 12.22676003, 12.5814679 , 13.15584079,\n",
       "       13.92868921, 14.83726123, 15.75773898, 16.52067694, 16.9779374 ,\n",
       "       17.10436967, 16.89248848])"
      ]
     },
     "execution_count": 28,
     "metadata": {},
     "output_type": "execute_result"
    }
   ],
   "source": [
    "multi_step_forecast_from_diff(flow_df.diff(periods=1).dropna(), model, flow_df.iloc[-1]['discharge'], n_steps=12)"
   ]
  },
  {
   "cell_type": "code",
   "execution_count": 47,
   "metadata": {},
   "outputs": [
    {
     "data": {
      "text/plain": [
       "array([[[ 5.175497],\n",
       "        [ 5.852569],\n",
       "        [ 8.549745],\n",
       "        [10.873962],\n",
       "        [11.471116],\n",
       "        [11.40634 ]]], dtype=float32)"
      ]
     },
     "execution_count": 47,
     "metadata": {},
     "output_type": "execute_result"
    }
   ],
   "source": [
    "multi_step_forecast_auto_encoder(flow_df.iloc[-24:], model)"
   ]
  },
  {
   "cell_type": "code",
   "execution_count": null,
   "metadata": {},
   "outputs": [],
   "source": []
  }
 ],
 "metadata": {
  "kernelspec": {
   "display_name": "Python 3",
   "language": "python",
   "name": "python3"
  },
  "language_info": {
   "codemirror_mode": {
    "name": "ipython",
    "version": 3
   },
   "file_extension": ".py",
   "mimetype": "text/x-python",
   "name": "python",
   "nbconvert_exporter": "python",
   "pygments_lexer": "ipython3",
   "version": "3.7.6"
  }
 },
 "nbformat": 4,
 "nbformat_minor": 4
}
