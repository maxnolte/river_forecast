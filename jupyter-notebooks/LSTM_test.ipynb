{
 "cells": [
  {
   "cell_type": "markdown",
   "metadata": {},
   "source": [
    "#### Testing LSTM Autoencoder fitted in Google Colab locally"
   ]
  },
  {
   "cell_type": "code",
   "execution_count": 1,
   "metadata": {},
   "outputs": [],
   "source": [
    "import tensorflow as tf"
   ]
  },
  {
   "cell_type": "code",
   "execution_count": 13,
   "metadata": {},
   "outputs": [],
   "source": [
    "import pandas as pd\n",
    "import numpy as np\n",
    "import matplotlib.pyplot as plt\n",
    "import seaborn as sns\n",
    "%matplotlib inline"
   ]
  },
  {
   "cell_type": "code",
   "execution_count": 2,
   "metadata": {},
   "outputs": [
    {
     "name": "stdout",
     "output_type": "stream",
     "text": [
      "2.2.0\n"
     ]
    }
   ],
   "source": [
    "print(tf.__version__)"
   ]
  },
  {
   "cell_type": "code",
   "execution_count": 4,
   "metadata": {},
   "outputs": [],
   "source": [
    "model = tf.keras.models.load_model('../models/LSTM_model_v2')"
   ]
  },
  {
   "cell_type": "code",
   "execution_count": 5,
   "metadata": {},
   "outputs": [
    {
     "name": "stdout",
     "output_type": "stream",
     "text": [
      "Model: \"sequential\"\n",
      "_________________________________________________________________\n",
      "Layer (type)                 Output Shape              Param #   \n",
      "=================================================================\n",
      "lambda (Lambda)              multiple                  0         \n",
      "_________________________________________________________________\n",
      "conv1d (Conv1D)              multiple                  256       \n",
      "_________________________________________________________________\n",
      "lstm (LSTM)                  multiple                  328704    \n",
      "_________________________________________________________________\n",
      "lstm_1 (LSTM)                multiple                  197120    \n",
      "_________________________________________________________________\n",
      "repeat_vector (RepeatVector) multiple                  0         \n",
      "_________________________________________________________________\n",
      "lstm_2 (LSTM)                multiple                  131584    \n",
      "_________________________________________________________________\n",
      "lstm_3 (LSTM)                multiple                  49408     \n",
      "_________________________________________________________________\n",
      "dense (Dense)                multiple                  2080      \n",
      "_________________________________________________________________\n",
      "dense_1 (Dense)              multiple                  528       \n",
      "_________________________________________________________________\n",
      "dense_2 (Dense)              multiple                  17        \n",
      "_________________________________________________________________\n",
      "lambda_1 (Lambda)            multiple                  0         \n",
      "_________________________________________________________________\n",
      "lambda_2 (Lambda)            multiple                  0         \n",
      "=================================================================\n",
      "Total params: 709,697\n",
      "Trainable params: 709,697\n",
      "Non-trainable params: 0\n",
      "_________________________________________________________________\n"
     ]
    }
   ],
   "source": [
    "model.summary()"
   ]
  },
  {
   "cell_type": "code",
   "execution_count": 6,
   "metadata": {},
   "outputs": [],
   "source": [
    "from river_forecast.api_data_access import RivermapDataRetriever"
   ]
  },
  {
   "cell_type": "code",
   "execution_count": 7,
   "metadata": {},
   "outputs": [],
   "source": [
    "rivermap_data = RivermapDataRetriever()"
   ]
  },
  {
   "cell_type": "code",
   "execution_count": 8,
   "metadata": {},
   "outputs": [],
   "source": [
    "flow_df = rivermap_data.get_latest_river_flow(n_days=4, station='Dranse')"
   ]
  },
  {
   "cell_type": "code",
   "execution_count": 18,
   "metadata": {},
   "outputs": [],
   "source": [
    "def multi_step_forecast_auto_encoder(time_series, model):\n",
    "    time_series = np.array(time_series).reshape(1, time_series.size, 1)\n",
    "    forecast = model.predict(time_series)\n",
    "    return forecast"
   ]
  },
  {
   "cell_type": "code",
   "execution_count": 19,
   "metadata": {},
   "outputs": [
    {
     "data": {
      "text/plain": [
       "array([[[20.732683],\n",
       "        [20.70979 ],\n",
       "        [20.726934],\n",
       "        [20.442753],\n",
       "        [20.557037],\n",
       "        [20.332447]]], dtype=float32)"
      ]
     },
     "execution_count": 19,
     "metadata": {},
     "output_type": "execute_result"
    }
   ],
   "source": [
    "multi_step_forecast_auto_encoder(flow_df.iloc[-24:], model)"
   ]
  },
  {
   "cell_type": "code",
   "execution_count": null,
   "metadata": {},
   "outputs": [],
   "source": []
  }
 ],
 "metadata": {
  "kernelspec": {
   "display_name": "Python 3",
   "language": "python",
   "name": "python3"
  },
  "language_info": {
   "codemirror_mode": {
    "name": "ipython",
    "version": 3
   },
   "file_extension": ".py",
   "mimetype": "text/x-python",
   "name": "python",
   "nbconvert_exporter": "python",
   "pygments_lexer": "ipython3",
   "version": "3.7.6"
  }
 },
 "nbformat": 4,
 "nbformat_minor": 4
}
